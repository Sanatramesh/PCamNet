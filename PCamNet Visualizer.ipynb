{
 "cells": [
  {
   "cell_type": "code",
   "execution_count": null,
   "metadata": {},
   "outputs": [],
   "source": [
    "import numpy as np\n",
    "import pickle\n",
    "import matplotlib.pyplot as plt\n",
    "\n",
    "from sklearn.neighbors import KNeighborsClassifier\n",
    "from sklearn.metrics import confusion_matrix, accuracy_score\n",
    "from sklearn.decomposition import PCA\n",
    "\n",
    "import pandas as pd\n",
    "import time\n",
    "\n",
    "%matplotlib inline"
   ]
  },
  {
   "cell_type": "markdown",
   "metadata": {},
   "source": [
    "## Visualize the stats"
   ]
  },
  {
   "cell_type": "code",
   "execution_count": null,
   "metadata": {},
   "outputs": [],
   "source": [
    "stats = pickle.load(open('model/PCamNet_pcam_stats.pkl', 'rb'))"
   ]
  },
  {
   "cell_type": "code",
   "execution_count": null,
   "metadata": {},
   "outputs": [],
   "source": [
    "loss_stats = np.array([s[:5] for s in stats])\n",
    "loss_stats[:, 1] /= loss_stats[:,2]\n",
    "loss_stats[:, 3] /= loss_stats[:,4]\n"
   ]
  },
  {
   "cell_type": "code",
   "execution_count": null,
   "metadata": {
    "scrolled": false
   },
   "outputs": [],
   "source": [
    "plt.figure(figsize=(10,6))\n",
    "plt.plot(loss_stats[:,0], loss_stats[:,1])\n",
    "plt.plot(loss_stats[:,0], loss_stats[:,3])\n",
    "plt.legend(['Train', 'Cross-Valid'])\n",
    "plt.title('Loss at each epoch: PCam')\n",
    "plt.xlabel('num of epoch')\n",
    "plt.ylabel('Cross entropy loss')\n",
    "plt.show()"
   ]
  },
  {
   "cell_type": "code",
   "execution_count": null,
   "metadata": {},
   "outputs": [],
   "source": [
    "\n",
    "plt.plot(loss_stats[:,0], [s[-1] for s in stats])\n",
    "plt.title('time per epoch')\n",
    "plt.show()"
   ]
  },
  {
   "cell_type": "code",
   "execution_count": null,
   "metadata": {},
   "outputs": [],
   "source": [
    "def softmax(output):\n",
    "    ex = np.exp(output)\n",
    "    norm = np.sum(ex,axis=1).reshape(-1, 1)\n",
    "    smax = ex/norm\n",
    "    return smax"
   ]
  },
  {
   "cell_type": "code",
   "execution_count": null,
   "metadata": {},
   "outputs": [],
   "source": [
    "acc_l = []\n",
    "for i in range(len(stats)):\n",
    "    prob = softmax(np.concatenate(stats[i][5]))\n",
    "    y_pred = np.argmax(prob, axis=1)\n",
    "    y_true = np.concatenate(stats[i][6])\n",
    "    acc_l.append(accuracy_score(y_true, y_pred))\n",
    "print(y_pred.shape, y_true.shape)"
   ]
  },
  {
   "cell_type": "code",
   "execution_count": null,
   "metadata": {},
   "outputs": [],
   "source": [
    "plt.figure(figsize=(10,6))\n",
    "plt.plot(acc_l)\n",
    "plt.title('Accuracy at each epoch: CIFAR-10')\n",
    "plt.xlabel('num of epoch')\n",
    "plt.ylabel('accuracy on training set')\n",
    "plt.show()"
   ]
  },
  {
   "cell_type": "code",
   "execution_count": null,
   "metadata": {},
   "outputs": [],
   "source": [
    "acc = accuracy_score(y_true, y_pred)\n",
    "conf_mat = confusion_matrix(y_true, y_pred)\n",
    "\n",
    "print('accuracy:',acc)\n",
    "print('confusion matrix:\\n', conf_mat)\n"
   ]
  },
  {
   "cell_type": "code",
   "execution_count": null,
   "metadata": {},
   "outputs": [],
   "source": [
    "fig, ax = plt.subplots(figsize=(10,10))\n",
    "ax.matshow(conf_mat)\n",
    "for (i, j), z in np.ndenumerate(conf_mat):\n",
    "    ax.text(j, i, '{:0.1f}'.format(z), ha='center', va='center')\n",
    "\n",
    "\n",
    "plt.show()"
   ]
  },
  {
   "cell_type": "markdown",
   "metadata": {},
   "source": [
    "## Test accuracy"
   ]
  },
  {
   "cell_type": "markdown",
   "metadata": {},
   "source": [
    "## Visualizing Embeddings"
   ]
  },
  {
   "cell_type": "code",
   "execution_count": null,
   "metadata": {},
   "outputs": [],
   "source": [
    "X = np.load('model/PCamNet_siam_pcam_train_feats.npy')\n",
    "y = np.load('model/PCamNet_siam_pcam_train_labels.npy')"
   ]
  },
  {
   "cell_type": "code",
   "execution_count": null,
   "metadata": {},
   "outputs": [],
   "source": [
    "X_test = np.load('model/PCamNet_siam_pcam_test_feats.npy')\n",
    "y_test =  np.load('model/PCamNet_siam_pcam_test_labels.npy')"
   ]
  },
  {
   "cell_type": "code",
   "execution_count": null,
   "metadata": {},
   "outputs": [],
   "source": [
    "print('Train dims:', X.shape, y.shape)\n",
    "print('Test dims:', X_test.shape, y_test.shape)"
   ]
  },
  {
   "cell_type": "code",
   "execution_count": null,
   "metadata": {},
   "outputs": [],
   "source": [
    "pca = PCA(n_components=10)\n",
    "X_pca = pca.fit_transform(X)"
   ]
  },
  {
   "cell_type": "code",
   "execution_count": null,
   "metadata": {},
   "outputs": [],
   "source": [
    "plt.figure(figsize=(15,10))\n",
    "pt = plt.scatter(X_pca[:,0], X_pca[:,1],c=y, s=X_pca[:2]*50, cmap=plt.cm.inferno)\n",
    "plt.colorbar(pt)\n",
    "plt.show()"
   ]
  },
  {
   "cell_type": "code",
   "execution_count": null,
   "metadata": {},
   "outputs": [],
   "source": [
    "print(y.shape, X_pca.shape)"
   ]
  },
  {
   "cell_type": "code",
   "execution_count": null,
   "metadata": {},
   "outputs": [],
   "source": [
    "df = pd.DataFrame(np.hstack((X_pca, y.reshape(-1,1))))\n",
    "print(df.shape)\n",
    "p = pd.plotting.parallel_coordinates(df, 10)"
   ]
  },
  {
   "cell_type": "code",
   "execution_count": null,
   "metadata": {},
   "outputs": [],
   "source": [
    "p = pd.plotting.scatter_matrix(df, alpha=0.2, figsize=(6, 6), diagonal='kde')"
   ]
  },
  {
   "cell_type": "markdown",
   "metadata": {},
   "source": [
    "## KNN Classifier"
   ]
  },
  {
   "cell_type": "code",
   "execution_count": null,
   "metadata": {},
   "outputs": [],
   "source": [
    "knn = KNeighborsClassifier(n_neighbors=1)\n",
    "knn.fit(X, y)\n",
    "\n",
    "knn_score = 0.0\n",
    "acc = 0.0\n",
    "\n",
    "bs = 100\n",
    "\n",
    "pred_data = []\n",
    "for i in range(0, len(y_test),bs):\n",
    "    if i > 5000:\n",
    "        break\n",
    "    t1 = time.time()\n",
    "    knn_predict = knn.predict( X_test[i:i+bs] )\n",
    "    acc = accuracy_score(y_test[i:i+bs], knn_predict)\n",
    "    \n",
    "    pred_data.append([acc, knn_predict])\n",
    "    print('score:', i, acc)\n",
    "    print('time:', time.time() - t1)\n",
    "    \n",
    "\n",
    "len(pred_data)\n",
    "pickle.dump('', open('siam_pcam_knn_1.pkl', 'wb'))"
   ]
  },
  {
   "cell_type": "code",
   "execution_count": null,
   "metadata": {
    "scrolled": true
   },
   "outputs": [],
   "source": [
    "knn = KNeighborsClassifier(n_neighbors=3)\n",
    "knn.fit(X, y)\n",
    "\n",
    "knn_score = 0.0\n",
    "acc = 0.0\n",
    "\n",
    "bs = 100\n",
    "\n",
    "pred_data = []\n",
    "for i in range(0, len(y_test),bs):\n",
    "    if i > 5000:\n",
    "        break\n",
    "    t1 = time.time()\n",
    "    knn_predict = knn.predict( X_test[i:i+bs] )\n",
    "    acc = accuracy_score(y_test[i:i+bs], knn_predict)\n",
    "    \n",
    "    pred_data.append([acc, knn_predict])\n",
    "    print('score:', i, acc)\n",
    "    print('time:', time.time() - t1)\n",
    "    \n",
    "\n",
    "len(pred_data)\n",
    "pickle.dump('', open('siam_pcam_knn_3.pkl', 'wb'))"
   ]
  },
  {
   "cell_type": "code",
   "execution_count": null,
   "metadata": {},
   "outputs": [],
   "source": [
    "knn = KNeighborsClassifier(n_neighbors=5)\n",
    "knn.fit(X, y)\n",
    "\n",
    "knn_score = 0.0\n",
    "acc = 0.0\n",
    "\n",
    "bs = 100\n",
    "\n",
    "pred_data = []\n",
    "for i in range(0, len(y_test),bs):\n",
    "    if i > 5000:\n",
    "        break\n",
    "    t1 = time.time()\n",
    "    knn_predict = knn.predict( X_test[i:i+bs] )\n",
    "    acc = accuracy_score(y_test[i:i+bs], knn_predict)\n",
    "    \n",
    "    pred_data.append([acc, knn_predict])\n",
    "    print('score:', i, acc)\n",
    "    print('time:', time.time() - t1)\n",
    "    \n",
    "\n",
    "len(pred_data)\n",
    "pickle.dump('', open('siam_pcam_knn_5.pkl', 'wb'))"
   ]
  },
  {
   "cell_type": "code",
   "execution_count": null,
   "metadata": {},
   "outputs": [],
   "source": []
  },
  {
   "cell_type": "code",
   "execution_count": null,
   "metadata": {},
   "outputs": [],
   "source": []
  },
  {
   "cell_type": "code",
   "execution_count": null,
   "metadata": {},
   "outputs": [],
   "source": []
  }
 ],
 "metadata": {
  "kernelspec": {
   "display_name": "Python 3",
   "language": "python",
   "name": "python3"
  },
  "language_info": {
   "codemirror_mode": {
    "name": "ipython",
    "version": 3
   },
   "file_extension": ".py",
   "mimetype": "text/x-python",
   "name": "python",
   "nbconvert_exporter": "python",
   "pygments_lexer": "ipython3",
   "version": "3.6.2"
  }
 },
 "nbformat": 4,
 "nbformat_minor": 2
}
